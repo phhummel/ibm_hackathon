{
 "cells": [
  {
   "cell_type": "code",
   "execution_count": 94,
   "metadata": {
    "collapsed": false
   },
   "outputs": [],
   "source": [
    "import numpy as np\n",
    "import pandas as pd\n",
    "\n",
    "winterweizen = [-1,-1,-1,-1,0,0,2,2,2,2,2,2,2,2,2,2]\n",
    "sommerweizen = [-1,-1,-1,-1,0,0,2,2,2,1,1,1,1,1,2,1]\n",
    "wintergerste = [2,2,-1,-1,2,2,2,0,-1,1,1,-1,2,1,-1,-1]\n",
    "sommergerste = [2,2,-1,-1,2,2,2,1,1,1,1,1,1,1,2,1]\n",
    "winterroggen = [2,2,2,2,0,0,2,2,0,1,1,-1,1,1,-1,1]\n",
    "triticale = [0,0,2,2,2,0,2,2,0,1,1,-1,1,1,-1,1]\n",
    "hafer = [2,2,2,2,2,2,-1,1,1,1,1,1,1,1,1,1 ]\n",
    "mais = [2,2,2,2,2,2,2,0,0,1,1,2,1,1,2,2]\n",
    "ackerbohne = [2,2,1,2,2,2,2,2,2,-1,-1,1,1,1,1,1]\n",
    "erbsen = [2,2,1,2,2,2,2,2,2,-1,-1,1,1,1,1,1]\n",
    "kartoffel = [2,2,2,2,2,2,2,0,2,2,2,-1,-1,1,2,2]\n",
    "winterraps = [0,0,2,2,0,0,0,-1,-1,-1,2,-1,2,-1,-1,-1]\n",
    "zuckerrüben = [2,2,2,2,2,2,1,-1,-1,-1,2,1,1,-1,-1,-1]\n",
    "runkelrüben = [2,2,2,2,2,2,2,0,2,2,2,1,1,-1,-1,-1]\n",
    "\n",
    "\n",
    "\n",
    "rows = ['winterweizen','sommerweizen','wintergerste','sommergerste',\n",
    "         'winterroggen','triticale','hafer','mais','ackerbohne','erbsen',\n",
    "         'kartoffel', 'winterraps', 'zuckerrüben', 'runkelrüben']\n",
    "columns = ['winterweizen','sommerweizen','wintergerste','sommergerste',\n",
    "         'winterroggen','triticale','hafer','silomais','körnermais','ackerbohnen','erbsen',\n",
    "         'spätkartoffeln', 'frühkartoffeln', 'winterraps', 'zuckerrüben', 'runkelrüben']\n",
    "\n",
    "vorfrucht = pd.DataFrame(columns=columns)\n",
    "for i in rows:\n",
    "    vorfrucht.loc[i] = eval(i)\n",
    "    \n",
    "rows = ['hafer', 'kartoffel', 'erbsen','mais', 'roggen', 'weizen', 'ackerbohne']\n",
    "\n",
    "columns = [5, 5.5, 6, 6.5, 7, 7.5, 8]\n",
    "\n",
    "hafer = [1,1,1,1,-1,-1,-1]\n",
    "kartoffel = [1,1,1,1,-1,-1,-1]\n",
    "erbsen = [-1,-1,0,1,1,-1,-1]\n",
    "mais = [-1,1,1,1,1,-1,-1]\n",
    "roggen = [-1,1,1,1,1,-1,-1]\n",
    "weizen = [-1,1,1,1,1,1,-1]\n",
    "ackerbohne = [-1,-1,-1,-1,1,1,1]\n",
    "\n",
    "boden  = pd.DataFrame(columns=columns)\n",
    "for i in rows:\n",
    "    boden.loc[i] = eval(i)\n"
   ]
  },
  {
   "cell_type": "code",
   "execution_count": 95,
   "metadata": {
    "collapsed": false
   },
   "outputs": [],
   "source": [
    "# pick the right rows\n",
    "used_rows = ['kartoffel', 'mais', 'weizen', 'ackerbohne']\n",
    "vorfrucht = vorfrucht.rename(index={'winterweizen': 'weizen'})\n",
    "vorfrucht = vorfrucht.loc[used_rows]\n",
    "boden = boden.loc[used_rows]\n"
   ]
  },
  {
   "cell_type": "code",
   "execution_count": 104,
   "metadata": {
    "collapsed": false
   },
   "outputs": [
    {
     "ename": "KeyError",
     "evalue": "0",
     "output_type": "error",
     "traceback": [
      "\u001b[0;31m---------------------------------------------------------------------------\u001b[0m",
      "\u001b[0;31mKeyError\u001b[0m                                  Traceback (most recent call last)",
      "\u001b[0;32m/usr/local/lib/python3.4/dist-packages/pandas/indexes/base.py\u001b[0m in \u001b[0;36mget_loc\u001b[0;34m(self, key, method, tolerance)\u001b[0m\n\u001b[1;32m   1944\u001b[0m             \u001b[0;32mtry\u001b[0m\u001b[0;34m:\u001b[0m\u001b[0;34m\u001b[0m\u001b[0m\n\u001b[0;32m-> 1945\u001b[0;31m                 \u001b[0;32mreturn\u001b[0m \u001b[0mself\u001b[0m\u001b[0;34m.\u001b[0m\u001b[0m_engine\u001b[0m\u001b[0;34m.\u001b[0m\u001b[0mget_loc\u001b[0m\u001b[0;34m(\u001b[0m\u001b[0mkey\u001b[0m\u001b[0;34m)\u001b[0m\u001b[0;34m\u001b[0m\u001b[0m\n\u001b[0m\u001b[1;32m   1946\u001b[0m             \u001b[0;32mexcept\u001b[0m \u001b[0mKeyError\u001b[0m\u001b[0;34m:\u001b[0m\u001b[0;34m\u001b[0m\u001b[0m\n",
      "\u001b[0;32mpandas/index.pyx\u001b[0m in \u001b[0;36mpandas.index.IndexEngine.get_loc (pandas/index.c:4154)\u001b[0;34m()\u001b[0m\n",
      "\u001b[0;32mpandas/index.pyx\u001b[0m in \u001b[0;36mpandas.index.IndexEngine.get_loc (pandas/index.c:4018)\u001b[0;34m()\u001b[0m\n",
      "\u001b[0;32mpandas/hashtable.pyx\u001b[0m in \u001b[0;36mpandas.hashtable.PyObjectHashTable.get_item (pandas/hashtable.c:12368)\u001b[0;34m()\u001b[0m\n",
      "\u001b[0;32mpandas/hashtable.pyx\u001b[0m in \u001b[0;36mpandas.hashtable.PyObjectHashTable.get_item (pandas/hashtable.c:12322)\u001b[0;34m()\u001b[0m\n",
      "\u001b[0;31mKeyError\u001b[0m: 0",
      "\nDuring handling of the above exception, another exception occurred:\n",
      "\u001b[0;31mKeyError\u001b[0m                                  Traceback (most recent call last)",
      "\u001b[0;32m<ipython-input-104-642255c6fb27>\u001b[0m in \u001b[0;36m<module>\u001b[0;34m()\u001b[0m\n\u001b[1;32m      7\u001b[0m \u001b[0;34m\u001b[0m\u001b[0m\n\u001b[1;32m      8\u001b[0m \u001b[0mvorfrucht_scaled\u001b[0m\u001b[0;34m.\u001b[0m\u001b[0mto_csv\u001b[0m\u001b[0;34m(\u001b[0m\u001b[0;34m'vorfrucht_table.csv'\u001b[0m\u001b[0;34m)\u001b[0m\u001b[0;34m\u001b[0m\u001b[0m\n\u001b[0;32m----> 9\u001b[0;31m \u001b[0mvorfrucht_scaled\u001b[0m\u001b[0;34m[\u001b[0m\u001b[0;36m0\u001b[0m\u001b[0;34m]\u001b[0m\u001b[0;34m\u001b[0m\u001b[0m\n\u001b[0m",
      "\u001b[0;32m/usr/local/lib/python3.4/dist-packages/pandas/core/frame.py\u001b[0m in \u001b[0;36m__getitem__\u001b[0;34m(self, key)\u001b[0m\n\u001b[1;32m   1995\u001b[0m             \u001b[0;32mreturn\u001b[0m \u001b[0mself\u001b[0m\u001b[0;34m.\u001b[0m\u001b[0m_getitem_multilevel\u001b[0m\u001b[0;34m(\u001b[0m\u001b[0mkey\u001b[0m\u001b[0;34m)\u001b[0m\u001b[0;34m\u001b[0m\u001b[0m\n\u001b[1;32m   1996\u001b[0m         \u001b[0;32melse\u001b[0m\u001b[0;34m:\u001b[0m\u001b[0;34m\u001b[0m\u001b[0m\n\u001b[0;32m-> 1997\u001b[0;31m             \u001b[0;32mreturn\u001b[0m \u001b[0mself\u001b[0m\u001b[0;34m.\u001b[0m\u001b[0m_getitem_column\u001b[0m\u001b[0;34m(\u001b[0m\u001b[0mkey\u001b[0m\u001b[0;34m)\u001b[0m\u001b[0;34m\u001b[0m\u001b[0m\n\u001b[0m\u001b[1;32m   1998\u001b[0m \u001b[0;34m\u001b[0m\u001b[0m\n\u001b[1;32m   1999\u001b[0m     \u001b[0;32mdef\u001b[0m \u001b[0m_getitem_column\u001b[0m\u001b[0;34m(\u001b[0m\u001b[0mself\u001b[0m\u001b[0;34m,\u001b[0m \u001b[0mkey\u001b[0m\u001b[0;34m)\u001b[0m\u001b[0;34m:\u001b[0m\u001b[0;34m\u001b[0m\u001b[0m\n",
      "\u001b[0;32m/usr/local/lib/python3.4/dist-packages/pandas/core/frame.py\u001b[0m in \u001b[0;36m_getitem_column\u001b[0;34m(self, key)\u001b[0m\n\u001b[1;32m   2002\u001b[0m         \u001b[0;31m# get column\u001b[0m\u001b[0;34m\u001b[0m\u001b[0;34m\u001b[0m\u001b[0m\n\u001b[1;32m   2003\u001b[0m         \u001b[0;32mif\u001b[0m \u001b[0mself\u001b[0m\u001b[0;34m.\u001b[0m\u001b[0mcolumns\u001b[0m\u001b[0;34m.\u001b[0m\u001b[0mis_unique\u001b[0m\u001b[0;34m:\u001b[0m\u001b[0;34m\u001b[0m\u001b[0m\n\u001b[0;32m-> 2004\u001b[0;31m             \u001b[0;32mreturn\u001b[0m \u001b[0mself\u001b[0m\u001b[0;34m.\u001b[0m\u001b[0m_get_item_cache\u001b[0m\u001b[0;34m(\u001b[0m\u001b[0mkey\u001b[0m\u001b[0;34m)\u001b[0m\u001b[0;34m\u001b[0m\u001b[0m\n\u001b[0m\u001b[1;32m   2005\u001b[0m \u001b[0;34m\u001b[0m\u001b[0m\n\u001b[1;32m   2006\u001b[0m         \u001b[0;31m# duplicate columns & possible reduce dimensionality\u001b[0m\u001b[0;34m\u001b[0m\u001b[0;34m\u001b[0m\u001b[0m\n",
      "\u001b[0;32m/usr/local/lib/python3.4/dist-packages/pandas/core/generic.py\u001b[0m in \u001b[0;36m_get_item_cache\u001b[0;34m(self, item)\u001b[0m\n\u001b[1;32m   1348\u001b[0m         \u001b[0mres\u001b[0m \u001b[0;34m=\u001b[0m \u001b[0mcache\u001b[0m\u001b[0;34m.\u001b[0m\u001b[0mget\u001b[0m\u001b[0;34m(\u001b[0m\u001b[0mitem\u001b[0m\u001b[0;34m)\u001b[0m\u001b[0;34m\u001b[0m\u001b[0m\n\u001b[1;32m   1349\u001b[0m         \u001b[0;32mif\u001b[0m \u001b[0mres\u001b[0m \u001b[0;32mis\u001b[0m \u001b[0;32mNone\u001b[0m\u001b[0;34m:\u001b[0m\u001b[0;34m\u001b[0m\u001b[0m\n\u001b[0;32m-> 1350\u001b[0;31m             \u001b[0mvalues\u001b[0m \u001b[0;34m=\u001b[0m \u001b[0mself\u001b[0m\u001b[0;34m.\u001b[0m\u001b[0m_data\u001b[0m\u001b[0;34m.\u001b[0m\u001b[0mget\u001b[0m\u001b[0;34m(\u001b[0m\u001b[0mitem\u001b[0m\u001b[0;34m)\u001b[0m\u001b[0;34m\u001b[0m\u001b[0m\n\u001b[0m\u001b[1;32m   1351\u001b[0m             \u001b[0mres\u001b[0m \u001b[0;34m=\u001b[0m \u001b[0mself\u001b[0m\u001b[0;34m.\u001b[0m\u001b[0m_box_item_values\u001b[0m\u001b[0;34m(\u001b[0m\u001b[0mitem\u001b[0m\u001b[0;34m,\u001b[0m \u001b[0mvalues\u001b[0m\u001b[0;34m)\u001b[0m\u001b[0;34m\u001b[0m\u001b[0m\n\u001b[1;32m   1352\u001b[0m             \u001b[0mcache\u001b[0m\u001b[0;34m[\u001b[0m\u001b[0mitem\u001b[0m\u001b[0;34m]\u001b[0m \u001b[0;34m=\u001b[0m \u001b[0mres\u001b[0m\u001b[0;34m\u001b[0m\u001b[0m\n",
      "\u001b[0;32m/usr/local/lib/python3.4/dist-packages/pandas/core/internals.py\u001b[0m in \u001b[0;36mget\u001b[0;34m(self, item, fastpath)\u001b[0m\n\u001b[1;32m   3288\u001b[0m \u001b[0;34m\u001b[0m\u001b[0m\n\u001b[1;32m   3289\u001b[0m             \u001b[0;32mif\u001b[0m \u001b[0;32mnot\u001b[0m \u001b[0misnull\u001b[0m\u001b[0;34m(\u001b[0m\u001b[0mitem\u001b[0m\u001b[0;34m)\u001b[0m\u001b[0;34m:\u001b[0m\u001b[0;34m\u001b[0m\u001b[0m\n\u001b[0;32m-> 3290\u001b[0;31m                 \u001b[0mloc\u001b[0m \u001b[0;34m=\u001b[0m \u001b[0mself\u001b[0m\u001b[0;34m.\u001b[0m\u001b[0mitems\u001b[0m\u001b[0;34m.\u001b[0m\u001b[0mget_loc\u001b[0m\u001b[0;34m(\u001b[0m\u001b[0mitem\u001b[0m\u001b[0;34m)\u001b[0m\u001b[0;34m\u001b[0m\u001b[0m\n\u001b[0m\u001b[1;32m   3291\u001b[0m             \u001b[0;32melse\u001b[0m\u001b[0;34m:\u001b[0m\u001b[0;34m\u001b[0m\u001b[0m\n\u001b[1;32m   3292\u001b[0m                 \u001b[0mindexer\u001b[0m \u001b[0;34m=\u001b[0m \u001b[0mnp\u001b[0m\u001b[0;34m.\u001b[0m\u001b[0marange\u001b[0m\u001b[0;34m(\u001b[0m\u001b[0mlen\u001b[0m\u001b[0;34m(\u001b[0m\u001b[0mself\u001b[0m\u001b[0;34m.\u001b[0m\u001b[0mitems\u001b[0m\u001b[0;34m)\u001b[0m\u001b[0;34m)\u001b[0m\u001b[0;34m[\u001b[0m\u001b[0misnull\u001b[0m\u001b[0;34m(\u001b[0m\u001b[0mself\u001b[0m\u001b[0;34m.\u001b[0m\u001b[0mitems\u001b[0m\u001b[0;34m)\u001b[0m\u001b[0;34m]\u001b[0m\u001b[0;34m\u001b[0m\u001b[0m\n",
      "\u001b[0;32m/usr/local/lib/python3.4/dist-packages/pandas/indexes/base.py\u001b[0m in \u001b[0;36mget_loc\u001b[0;34m(self, key, method, tolerance)\u001b[0m\n\u001b[1;32m   1945\u001b[0m                 \u001b[0;32mreturn\u001b[0m \u001b[0mself\u001b[0m\u001b[0;34m.\u001b[0m\u001b[0m_engine\u001b[0m\u001b[0;34m.\u001b[0m\u001b[0mget_loc\u001b[0m\u001b[0;34m(\u001b[0m\u001b[0mkey\u001b[0m\u001b[0;34m)\u001b[0m\u001b[0;34m\u001b[0m\u001b[0m\n\u001b[1;32m   1946\u001b[0m             \u001b[0;32mexcept\u001b[0m \u001b[0mKeyError\u001b[0m\u001b[0;34m:\u001b[0m\u001b[0;34m\u001b[0m\u001b[0m\n\u001b[0;32m-> 1947\u001b[0;31m                 \u001b[0;32mreturn\u001b[0m \u001b[0mself\u001b[0m\u001b[0;34m.\u001b[0m\u001b[0m_engine\u001b[0m\u001b[0;34m.\u001b[0m\u001b[0mget_loc\u001b[0m\u001b[0;34m(\u001b[0m\u001b[0mself\u001b[0m\u001b[0;34m.\u001b[0m\u001b[0m_maybe_cast_indexer\u001b[0m\u001b[0;34m(\u001b[0m\u001b[0mkey\u001b[0m\u001b[0;34m)\u001b[0m\u001b[0;34m)\u001b[0m\u001b[0;34m\u001b[0m\u001b[0m\n\u001b[0m\u001b[1;32m   1948\u001b[0m \u001b[0;34m\u001b[0m\u001b[0m\n\u001b[1;32m   1949\u001b[0m         \u001b[0mindexer\u001b[0m \u001b[0;34m=\u001b[0m \u001b[0mself\u001b[0m\u001b[0;34m.\u001b[0m\u001b[0mget_indexer\u001b[0m\u001b[0;34m(\u001b[0m\u001b[0;34m[\u001b[0m\u001b[0mkey\u001b[0m\u001b[0;34m]\u001b[0m\u001b[0;34m,\u001b[0m \u001b[0mmethod\u001b[0m\u001b[0;34m=\u001b[0m\u001b[0mmethod\u001b[0m\u001b[0;34m,\u001b[0m \u001b[0mtolerance\u001b[0m\u001b[0;34m=\u001b[0m\u001b[0mtolerance\u001b[0m\u001b[0;34m)\u001b[0m\u001b[0;34m\u001b[0m\u001b[0m\n",
      "\u001b[0;32mpandas/index.pyx\u001b[0m in \u001b[0;36mpandas.index.IndexEngine.get_loc (pandas/index.c:4154)\u001b[0;34m()\u001b[0m\n",
      "\u001b[0;32mpandas/index.pyx\u001b[0m in \u001b[0;36mpandas.index.IndexEngine.get_loc (pandas/index.c:4018)\u001b[0;34m()\u001b[0m\n",
      "\u001b[0;32mpandas/hashtable.pyx\u001b[0m in \u001b[0;36mpandas.hashtable.PyObjectHashTable.get_item (pandas/hashtable.c:12368)\u001b[0;34m()\u001b[0m\n",
      "\u001b[0;32mpandas/hashtable.pyx\u001b[0m in \u001b[0;36mpandas.hashtable.PyObjectHashTable.get_item (pandas/hashtable.c:12322)\u001b[0;34m()\u001b[0m\n",
      "\u001b[0;31mKeyError\u001b[0m: 0"
     ]
    }
   ],
   "source": [
    "# scale vorfrucht\n",
    "vorfrucht += 1.1\n",
    "vorfrucht **= 2\n",
    "row_sum = vorfrucht.sum(axis=1)\n",
    "\n",
    "vorfrucht_scaled = vorfrucht.divide(row_sum,axis=0)\n",
    "\n",
    "vorfrucht_scaled.to_csv('vorfrucht_table.csv')"
   ]
  },
  {
   "cell_type": "code",
   "execution_count": 97,
   "metadata": {
    "collapsed": true
   },
   "outputs": [],
   "source": [
    "boden += 1.1"
   ]
  },
  {
   "cell_type": "code",
   "execution_count": 107,
   "metadata": {
    "collapsed": false
   },
   "outputs": [],
   "source": [
    "# scale Boden\n",
    "kartoffel = [1,1,1,0.9,0.2,0.1,0.05]\n",
    "mais = [0.2,0.9,1,1,0.9, 0.2, 0.1]\n",
    "weizen = [0.2,0.9, 1,1,1,0.9,0.2]\n",
    "ackerbohne = [0.025,0.05,0.1,0.2,0.9,1,1]\n",
    "columns = [5, 5.5, 6, 6.5, 7, 7.5, 8]\n",
    "rows = ['kartoffel', 'mais', 'weizen', 'ackerbohne']\n",
    "boden_scaled  = pd.DataFrame(columns=columns)\n",
    "for i in rows:\n",
    "    boden_scaled.loc[i] = eval(i)\n",
    "    \n",
    "row_sum = boden.sum(axis=1)\n",
    "\n",
    "boden_scaled = boden_scaled.divide(row_sum,axis=0)\n",
    "boden_scaled.to_csv('boden_table.csv')"
   ]
  },
  {
   "cell_type": "code",
   "execution_count": 105,
   "metadata": {
    "collapsed": true
   },
   "outputs": [],
   "source": [
    "test = pd.read_csv('vorfrucht_table.csv', index_col=0)"
   ]
  },
  {
   "cell_type": "code",
   "execution_count": 106,
   "metadata": {
    "collapsed": false
   },
   "outputs": [
    {
     "data": {
      "text/html": [
       "<div>\n",
       "<table border=\"1\" class=\"dataframe\">\n",
       "  <thead>\n",
       "    <tr style=\"text-align: right;\">\n",
       "      <th></th>\n",
       "      <th>winterweizen</th>\n",
       "      <th>sommerweizen</th>\n",
       "      <th>wintergerste</th>\n",
       "      <th>sommergerste</th>\n",
       "      <th>winterroggen</th>\n",
       "      <th>triticale</th>\n",
       "      <th>hafer</th>\n",
       "      <th>silomais</th>\n",
       "      <th>körnermais</th>\n",
       "      <th>ackerbohnen</th>\n",
       "      <th>erbsen</th>\n",
       "      <th>spätkartoffeln</th>\n",
       "      <th>frühkartoffeln</th>\n",
       "      <th>winterraps</th>\n",
       "      <th>zuckerrüben</th>\n",
       "      <th>runkelrüben</th>\n",
       "    </tr>\n",
       "  </thead>\n",
       "  <tbody>\n",
       "    <tr>\n",
       "      <th>kartoffel</th>\n",
       "      <td>8.329537e-02</td>\n",
       "      <td>8.329537e-02</td>\n",
       "      <td>8.329537e-02</td>\n",
       "      <td>8.329537e-02</td>\n",
       "      <td>0.083295</td>\n",
       "      <td>0.083295</td>\n",
       "      <td>0.083295</td>\n",
       "      <td>8.373548e-07</td>\n",
       "      <td>0.083295</td>\n",
       "      <td>8.329537e-02</td>\n",
       "      <td>8.329537e-02</td>\n",
       "      <td>1.979864e-08</td>\n",
       "      <td>1.979864e-08</td>\n",
       "      <td>0.000455</td>\n",
       "      <td>0.083295</td>\n",
       "      <td>0.083295</td>\n",
       "    </tr>\n",
       "    <tr>\n",
       "      <th>mais</th>\n",
       "      <td>9.978195e-02</td>\n",
       "      <td>9.978195e-02</td>\n",
       "      <td>9.978195e-02</td>\n",
       "      <td>9.978195e-02</td>\n",
       "      <td>0.099782</td>\n",
       "      <td>0.099782</td>\n",
       "      <td>0.099782</td>\n",
       "      <td>1.003092e-06</td>\n",
       "      <td>0.000001</td>\n",
       "      <td>5.446158e-04</td>\n",
       "      <td>5.446158e-04</td>\n",
       "      <td>9.978195e-02</td>\n",
       "      <td>5.446158e-04</td>\n",
       "      <td>0.000545</td>\n",
       "      <td>0.099782</td>\n",
       "      <td>0.099782</td>\n",
       "    </tr>\n",
       "    <tr>\n",
       "      <th>weizen</th>\n",
       "      <td>2.376915e-08</td>\n",
       "      <td>2.376915e-08</td>\n",
       "      <td>2.376915e-08</td>\n",
       "      <td>2.376915e-08</td>\n",
       "      <td>0.000001</td>\n",
       "      <td>0.000001</td>\n",
       "      <td>0.100000</td>\n",
       "      <td>9.999979e-02</td>\n",
       "      <td>0.100000</td>\n",
       "      <td>9.999979e-02</td>\n",
       "      <td>9.999979e-02</td>\n",
       "      <td>9.999979e-02</td>\n",
       "      <td>9.999979e-02</td>\n",
       "      <td>0.100000</td>\n",
       "      <td>0.100000</td>\n",
       "      <td>0.100000</td>\n",
       "    </tr>\n",
       "    <tr>\n",
       "      <th>ackerbohne</th>\n",
       "      <td>1.244904e-01</td>\n",
       "      <td>1.244904e-01</td>\n",
       "      <td>6.794759e-04</td>\n",
       "      <td>1.244904e-01</td>\n",
       "      <td>0.124490</td>\n",
       "      <td>0.124490</td>\n",
       "      <td>0.124490</td>\n",
       "      <td>1.244904e-01</td>\n",
       "      <td>0.124490</td>\n",
       "      <td>2.959037e-08</td>\n",
       "      <td>2.959037e-08</td>\n",
       "      <td>6.794759e-04</td>\n",
       "      <td>6.794759e-04</td>\n",
       "      <td>0.000679</td>\n",
       "      <td>0.000679</td>\n",
       "      <td>0.000679</td>\n",
       "    </tr>\n",
       "  </tbody>\n",
       "</table>\n",
       "</div>"
      ],
      "text/plain": [
       "            winterweizen  sommerweizen  wintergerste  sommergerste  \\\n",
       "kartoffel   8.329537e-02  8.329537e-02  8.329537e-02  8.329537e-02   \n",
       "mais        9.978195e-02  9.978195e-02  9.978195e-02  9.978195e-02   \n",
       "weizen      2.376915e-08  2.376915e-08  2.376915e-08  2.376915e-08   \n",
       "ackerbohne  1.244904e-01  1.244904e-01  6.794759e-04  1.244904e-01   \n",
       "\n",
       "            winterroggen  triticale     hafer      silomais  körnermais  \\\n",
       "kartoffel       0.083295   0.083295  0.083295  8.373548e-07    0.083295   \n",
       "mais            0.099782   0.099782  0.099782  1.003092e-06    0.000001   \n",
       "weizen          0.000001   0.000001  0.100000  9.999979e-02    0.100000   \n",
       "ackerbohne      0.124490   0.124490  0.124490  1.244904e-01    0.124490   \n",
       "\n",
       "             ackerbohnen        erbsen  spätkartoffeln  frühkartoffeln  \\\n",
       "kartoffel   8.329537e-02  8.329537e-02    1.979864e-08    1.979864e-08   \n",
       "mais        5.446158e-04  5.446158e-04    9.978195e-02    5.446158e-04   \n",
       "weizen      9.999979e-02  9.999979e-02    9.999979e-02    9.999979e-02   \n",
       "ackerbohne  2.959037e-08  2.959037e-08    6.794759e-04    6.794759e-04   \n",
       "\n",
       "            winterraps  zuckerrüben  runkelrüben  \n",
       "kartoffel     0.000455     0.083295     0.083295  \n",
       "mais          0.000545     0.099782     0.099782  \n",
       "weizen        0.100000     0.100000     0.100000  \n",
       "ackerbohne    0.000679     0.000679     0.000679  "
      ]
     },
     "execution_count": 106,
     "metadata": {},
     "output_type": "execute_result"
    }
   ],
   "source": [
    "test"
   ]
  },
  {
   "cell_type": "code",
   "execution_count": null,
   "metadata": {
    "collapsed": true
   },
   "outputs": [],
   "source": []
  }
 ],
 "metadata": {
  "kernelspec": {
   "display_name": "Python 3",
   "language": "python",
   "name": "python3"
  },
  "language_info": {
   "codemirror_mode": {
    "name": "ipython",
    "version": 3
   },
   "file_extension": ".py",
   "mimetype": "text/x-python",
   "name": "python",
   "nbconvert_exporter": "python",
   "pygments_lexer": "ipython3",
   "version": "3.4.3"
  }
 },
 "nbformat": 4,
 "nbformat_minor": 1
}
